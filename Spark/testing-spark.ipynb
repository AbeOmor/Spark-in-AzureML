{
  "cells": [
    {
      "cell_type": "code",
      "source": [
        "\r\n",
        "with open('data-proccess-in-spark/stackoverflow-data-prep.py', 'r') as training_script:\r\n",
        "    print(training_script.read())"
      ],
      "outputs": [
        {
          "output_type": "stream",
          "name": "stdout",
          "text": [
            "#!/usr/bin/env python\n",
            "# coding: utf-8\n",
            "\n",
            "# Copyright (c) Microsoft. All rights reserved.\n",
            "# Licensed under the MIT license.\n",
            "\n",
            "import numpy as np\n",
            "import pyspark\n",
            "import os\n",
            "import urllib\n",
            "import sys\n",
            "\n",
            "from pyspark.sql.functions import *\n",
            "from pyspark.ml.classification import *\n",
            "from pyspark.ml.evaluation import *\n",
            "from pyspark.ml.feature import *\n",
            "from pyspark.sql.types import StructType, StructField\n",
            "from pyspark.sql.types import DoubleType, IntegerType, StringType\n",
            "\n",
            "from azureml.core.run import Run\n",
            "\n",
            "# initialize logger\n",
            "run = Run.get_context()\n",
            "\n",
            "# start Spark session\n",
            "spark = pyspark.sql.SparkSession.builder.appName('Stackoverflow') \\\n",
            "            .config(\"spark.jars.packages\", \"com.databricks:spark-xml_2.11:0.6.0\") \\\n",
            "            .config(\"spark.jars.repositories\", \"https://mvnrepository.com/artifact/com.databricks/spark-xml\") \\\n",
            "            .getOrCreate()\n",
            "\n",
            "# print runtime versions\n",
            "print('****************')\n",
            "print('Python version: {}'.format(sys.version))\n",
            "print('Spark version: {}'.format(spark.version))\n",
            "print('****************')\n",
            "'''\n",
            "STEP 1: Download Stack Overflow data from archive. (This takes about 2-3 hours)\n",
            "'''\n",
            "# get_ipython().system('wget https://archive.org/download/stackexchange/stackoverflow.com-Posts.7z')\n",
            "# get_ipython().system('sudo apt-get install p7zip-full')\n",
            "# get_ipython().system('7z x stackoverflow.com-Posts.7z -oposts')\n",
            "\n",
            "# Define input arguments\n",
            "import sys\n",
            "data_dir = sys.argv[1]\n",
            "#data_dir = '../../../../../stackoverflow'\n",
            "xml_file_path = str(os.path.join(data_dir, 'stackoverflow/posts/Posts.xml'))\n",
            "#xml_file_path = 'wasbs://zhenzhuuksouth3632161177.blob.core.windows.net/stackoverflowdata/stackoverflow/posts/Posts.xml'\n",
            "print('*******TESTING PATHS FOR DATA*********')\n",
            "print(xml_file_path)\n",
            "print(os.listdir(str(os.path.join(data_dir, 'stackoverflow'))))\n",
            "print('****************')\n",
            "\n",
            "'''\n",
            "STEP 2: Copy data over to databricks file system (This takes about an hour)\n",
            "'''\n",
            "## TODO Need to figure out how to move data to to a mounted Hadoop Storage for the AML Cluster\n",
            "#dbutils.fs.cp(xml_file_path, \"dbfs:/tmp/posts/Posts.xml\")  \n",
            "\n",
            "'''\n",
            "STEP 3: Process data using Spark\n",
            "\n",
            "Note - This requires the spark-xml maven library (com.databricks:spark-xml_2.11:0.6.0) to be installed.\n",
            "'''\n",
            "import pyspark\n",
            "from pyspark.sql import functions as sf\n",
            "from pyspark.sql import Row\n",
            "from pyspark.sql.functions import size, col, concat_ws, rtrim, regexp_replace, split, udf\n",
            "from pyspark.sql.types import ArrayType\n",
            "\n",
            "# load xml file into spark data frame.\n",
            "posts = spark.read.format(\"xml\").option(\"rowTag\", \"row\").load(xml_file_path)\n",
            "\n",
            "# select only questions\n",
            "questions = posts.filter(posts._PostTypeId == 1) \n",
            "\n",
            "# drop irrelvant columns and clean up strings\n",
            "questions = questions.select([c for c in questions.columns if c in ['_Id','_Title','_Body','_Tags']])\n",
            "questions = questions.withColumn('full_question', sf.concat(sf.col('_Title'), sf.lit(' '), sf.col('_Body')))\n",
            "questions = questions.select([c for c in questions.columns if c in ['_Id','full_question','_Tags']]).withColumn(\"full_question\", regexp_replace(\"full_question\", \"[\\\\n,]\", \" \"))\n",
            "questions = questions.withColumn(\"_Tags\", regexp_replace(\"_Tags\", \"><\", \" \"))\n",
            "questions = questions.withColumn(\"_Tags\", regexp_replace(\"_Tags\", \"(>|<)\", \"\"))\n",
            "questions = questions.withColumn('_Tags', rtrim(questions._Tags))\n",
            "questions = questions.withColumn('_Tags', split(questions._Tags, \" \"))\n",
            "\n",
            "# filter out to single tags in following list\n",
            "tags_of_interest = ['azure-devops', 'azure-functions', 'azure-web-app-service', 'azure-storage', 'azure-virtual-machine'] \n",
            "\n",
            "def intersect(xs):\n",
            "    xs = set(xs)\n",
            "    @udf(\"array<string>\")\n",
            "    def _(ys):\n",
            "        return list(xs.intersection(ys))\n",
            "    return _\n",
            "\n",
            "questions = questions.withColumn(\"intersect\", intersect(tags_of_interest)(\"_Tags\"))\n",
            "questions = questions.filter(size(col(\"intersect\"))==1)\n",
            "questions = questions.select('_Id', 'full_question', 'intersect').withColumn('_Tags', concat_ws(', ', 'intersect'))\n",
            "questions = questions.select('_Id', 'full_question', '_Tags')\n",
            "\n",
            "questions.show()\n",
            "\n",
            "\n",
            "'''\n",
            "Step 4: Convert processed data into pandas data frame for final preprocessing and data split\n",
            "'''\n",
            "\n",
            "import pandas as pd\n",
            "import numpy as np\n",
            "from sklearn.utils import shuffle\n",
            "\n",
            "df = questions.toPandas()\n",
            "\n",
            "# drop nan values and remove line breaks\n",
            "df.dropna(inplace=True)\n",
            "df.replace(to_replace=[r\"\\\\t|\\\\n|\\\\r\", \"\\t|\\n|\\r\"], value=[\"\",\"\"], regex=True, inplace=True)\n",
            "\n",
            "# balance dataset \n",
            "balanced = df.groupby('_Tags')\n",
            "balanced.apply(lambda x: x.sample(balanced.size().min())).reset_index(drop=True).to_csv('balanced.csv')\n",
            "bd = pd.read_csv('balanced.csv')\n",
            "bd.drop('Unnamed: 0', axis=1, inplace=True)\n",
            "\n",
            "# shuffle data \n",
            "bd = shuffle(bd)\n",
            "\n",
            "# split data into train, test, and valid sets\n",
            "msk = np.random.rand(len(bd)) < 0.7\n",
            "train = bd[msk]\n",
            "temp = bd[~msk]\n",
            "msk = np.random.rand(len(temp)) < 0.66\n",
            "valid = temp[msk]\n",
            "test = temp[~msk]\n",
            "\n",
            "'''\n",
            "STEP 5: Save dataset into csv and class.txt files\n",
            "'''\n",
            "\n",
            "output_dir = './output'\n",
            "\n",
            "import os\n",
            "if not os.path.exists(output_dir):\n",
            "    os.makedirs(output_dir)\n",
            "\n",
            "# create and save classes.txt file\n",
            "classes = pd.DataFrame(bd['_Tags'].unique().tolist())\n",
            "classes.to_csv(os.path.join(output_dir, 'classes.txt'), header=False, index=False)\n",
            "\n",
            "# save train, valid, and test files\n",
            "train.to_csv(os.path.join(output_dir, 'train.csv'), header=False, index=False)\n",
            "valid.to_csv(os.path.join(output_dir, 'valid.csv'), header=False, index=False)\n",
            "test.to_csv(os.path.join(output_dir, 'test.csv'), header=False, index=False)\n",
            "\n"
          ]
        }
      ],
      "execution_count": 7,
      "metadata": {
        "collapsed": true,
        "jupyter": {
          "source_hidden": false,
          "outputs_hidden": false
        },
        "nteract": {
          "transient": {
            "deleting": false
          }
        },
        "gather": {
          "logged": 1613693137970
        }
      }
    },
    {
      "cell_type": "code",
      "source": [
        "from pyspark.sql.functions import *\r\n",
        "from pyspark.ml.classification import *\r\n",
        "from pyspark.ml.evaluation import *\r\n",
        "from pyspark.ml.feature import *\r\n",
        "from pyspark.sql.types import StructType, StructField\r\n",
        "from pyspark.sql.types import DoubleType, IntegerType, StringType\r\n",
        "\r\n",
        "from azureml.core.run import Run\r\n",
        "\r\n",
        "# initialize logger\r\n",
        "run = Run.get_context()\r\n",
        "\r\n",
        "# start Spark session\r\n",
        "spark = pyspark.sql.SparkSession.builder.appName('Stackoverflow') \\\r\n",
        "            .config(\"spark.jars.packages\", \"com.databricks:spark-xml_2.11:0.6.0\") \\\r\n",
        "            .config(\"spark.jars.repositories\", \"https://mvnrepository.com/artifact/com.databricks/spark-xml\") \\\r\n",
        "            .getOrCreate()"
      ],
      "outputs": [],
      "execution_count": 6,
      "metadata": {
        "collapsed": true,
        "jupyter": {
          "source_hidden": false,
          "outputs_hidden": false
        },
        "nteract": {
          "transient": {
            "deleting": false
          }
        },
        "gather": {
          "logged": 1613689166866
        }
      }
    },
    {
      "cell_type": "code",
      "source": [
        "import pandas as pd"
      ],
      "outputs": [],
      "execution_count": 7,
      "metadata": {
        "gather": {
          "logged": 1613689169892
        }
      }
    },
    {
      "cell_type": "code",
      "source": [
        "import sys\r\n",
        "#data_dir = sys.argv[1]\r\n",
        "#data_dir = '../../../../../stackoverflow'\r\n",
        "xml_file_path = str(os.path.join(data_dir, 'Posts.xml'))\r\n",
        "xml_file_path = 'wasbs://zhenzhuuksouth3632161177.blob.core.windows.net/stackoverflowdata/stackoverflow/posts/Posts.xml'\r\n",
        "print('*******TESTING PATHS FOR DATA*********')\r\n",
        "print(xml_file_path)\r\n",
        "#print(os.listdir(data_dir))\r\n",
        "print('****************')\r\n",
        "\r\n",
        "'''\r\n",
        "STEP 2: Copy data over to databricks file system (This takes about an hour)\r\n",
        "'''\r\n",
        "## TODO Need to figure out how to move data to to a mounted Hadoop Storage for the AML Cluster\r\n",
        "#dbutils.fs.cp(xml_file_path, \"dbfs:/tmp/posts/Posts.xml\")  \r\n",
        "\r\n",
        "'''\r\n",
        "STEP 3: Process data using Spark\r\n",
        "\r\n",
        "Note - This requires the spark-xml maven library (com.databricks:spark-xml_2.11:0.6.0) to be installed.\r\n",
        "'''\r\n",
        "import pyspark\r\n",
        "from pyspark.sql import functions as sf\r\n",
        "from pyspark.sql import Row\r\n",
        "from pyspark.sql.functions import size, col, concat_ws, rtrim, regexp_replace, split, udf\r\n",
        "from pyspark.sql.types import ArrayType\r\n",
        "\r\n",
        "# load xml file into spark data frame.\r\n",
        "posts = spark.read.format(\"xml\").option(\"rowTag\", \"row\").load(xml_file_path)"
      ],
      "outputs": [
        {
          "output_type": "stream",
          "name": "stdout",
          "text": [
            "*******TESTING PATHS FOR DATA*********\n",
            "wasbs://zhenzhuuksouth3632161177.blob.core.windows.net/stackoverflowdata/stackoverflow/posts/Posts.xml\n",
            "****************\n"
          ]
        },
        {
          "output_type": "error",
          "ename": "Py4JJavaError",
          "evalue": "An error occurred while calling o40.load.\n: java.lang.ClassNotFoundException: Failed to find data source: xml. Please find packages at http://spark.apache.org/third-party-projects.html\n\tat org.apache.spark.sql.execution.datasources.DataSource$.lookupDataSource(DataSource.scala:674)\n\tat org.apache.spark.sql.execution.datasources.DataSource$.lookupDataSourceV2(DataSource.scala:728)\n\tat org.apache.spark.sql.DataFrameReader.load(DataFrameReader.scala:230)\n\tat org.apache.spark.sql.DataFrameReader.load(DataFrameReader.scala:214)\n\tat sun.reflect.NativeMethodAccessorImpl.invoke0(Native Method)\n\tat sun.reflect.NativeMethodAccessorImpl.invoke(NativeMethodAccessorImpl.java:62)\n\tat sun.reflect.DelegatingMethodAccessorImpl.invoke(DelegatingMethodAccessorImpl.java:43)\n\tat java.lang.reflect.Method.invoke(Method.java:498)\n\tat py4j.reflection.MethodInvoker.invoke(MethodInvoker.java:244)\n\tat py4j.reflection.ReflectionEngine.invoke(ReflectionEngine.java:357)\n\tat py4j.Gateway.invoke(Gateway.java:282)\n\tat py4j.commands.AbstractCommand.invokeMethod(AbstractCommand.java:132)\n\tat py4j.commands.CallCommand.execute(CallCommand.java:79)\n\tat py4j.GatewayConnection.run(GatewayConnection.java:238)\n\tat java.lang.Thread.run(Thread.java:748)\nCaused by: java.lang.ClassNotFoundException: xml.DefaultSource\n\tat java.net.URLClassLoader.findClass(URLClassLoader.java:382)\n\tat java.lang.ClassLoader.loadClass(ClassLoader.java:418)\n\tat java.lang.ClassLoader.loadClass(ClassLoader.java:351)\n\tat org.apache.spark.sql.execution.datasources.DataSource$.$anonfun$lookupDataSource$5(DataSource.scala:648)\n\tat scala.util.Try$.apply(Try.scala:213)\n\tat org.apache.spark.sql.execution.datasources.DataSource$.$anonfun$lookupDataSource$4(DataSource.scala:648)\n\tat scala.util.Failure.orElse(Try.scala:224)\n\tat org.apache.spark.sql.execution.datasources.DataSource$.lookupDataSource(DataSource.scala:648)\n\t... 14 more\n",
          "traceback": [
            "\u001b[0;31m---------------------------------------------------------------------------\u001b[0m",
            "\u001b[0;31mPy4JJavaError\u001b[0m                             Traceback (most recent call last)",
            "\u001b[0;32m<ipython-input-9-833163f7c8ee>\u001b[0m in \u001b[0;36m<module>\u001b[0;34m\u001b[0m\n\u001b[1;32m     27\u001b[0m \u001b[0;34m\u001b[0m\u001b[0m\n\u001b[1;32m     28\u001b[0m \u001b[0;31m# load xml file into spark data frame.\u001b[0m\u001b[0;34m\u001b[0m\u001b[0;34m\u001b[0m\u001b[0;34m\u001b[0m\u001b[0m\n\u001b[0;32m---> 29\u001b[0;31m \u001b[0mposts\u001b[0m \u001b[0;34m=\u001b[0m \u001b[0mspark\u001b[0m\u001b[0;34m.\u001b[0m\u001b[0mread\u001b[0m\u001b[0;34m.\u001b[0m\u001b[0mformat\u001b[0m\u001b[0;34m(\u001b[0m\u001b[0;34m\"xml\"\u001b[0m\u001b[0;34m)\u001b[0m\u001b[0;34m.\u001b[0m\u001b[0moption\u001b[0m\u001b[0;34m(\u001b[0m\u001b[0;34m\"rowTag\"\u001b[0m\u001b[0;34m,\u001b[0m \u001b[0;34m\"row\"\u001b[0m\u001b[0;34m)\u001b[0m\u001b[0;34m.\u001b[0m\u001b[0mload\u001b[0m\u001b[0;34m(\u001b[0m\u001b[0mxml_file_path\u001b[0m\u001b[0;34m)\u001b[0m\u001b[0;34m\u001b[0m\u001b[0;34m\u001b[0m\u001b[0m\n\u001b[0m",
            "\u001b[0;32m/anaconda/envs/azureml_py36/lib/python3.6/site-packages/pyspark/sql/readwriter.py\u001b[0m in \u001b[0;36mload\u001b[0;34m(self, path, format, schema, **options)\u001b[0m\n\u001b[1;32m    176\u001b[0m         \u001b[0mself\u001b[0m\u001b[0;34m.\u001b[0m\u001b[0moptions\u001b[0m\u001b[0;34m(\u001b[0m\u001b[0;34m**\u001b[0m\u001b[0moptions\u001b[0m\u001b[0;34m)\u001b[0m\u001b[0;34m\u001b[0m\u001b[0;34m\u001b[0m\u001b[0m\n\u001b[1;32m    177\u001b[0m         \u001b[0;32mif\u001b[0m \u001b[0misinstance\u001b[0m\u001b[0;34m(\u001b[0m\u001b[0mpath\u001b[0m\u001b[0;34m,\u001b[0m \u001b[0mbasestring\u001b[0m\u001b[0;34m)\u001b[0m\u001b[0;34m:\u001b[0m\u001b[0;34m\u001b[0m\u001b[0;34m\u001b[0m\u001b[0m\n\u001b[0;32m--> 178\u001b[0;31m             \u001b[0;32mreturn\u001b[0m \u001b[0mself\u001b[0m\u001b[0;34m.\u001b[0m\u001b[0m_df\u001b[0m\u001b[0;34m(\u001b[0m\u001b[0mself\u001b[0m\u001b[0;34m.\u001b[0m\u001b[0m_jreader\u001b[0m\u001b[0;34m.\u001b[0m\u001b[0mload\u001b[0m\u001b[0;34m(\u001b[0m\u001b[0mpath\u001b[0m\u001b[0;34m)\u001b[0m\u001b[0;34m)\u001b[0m\u001b[0;34m\u001b[0m\u001b[0;34m\u001b[0m\u001b[0m\n\u001b[0m\u001b[1;32m    179\u001b[0m         \u001b[0;32melif\u001b[0m \u001b[0mpath\u001b[0m \u001b[0;32mis\u001b[0m \u001b[0;32mnot\u001b[0m \u001b[0;32mNone\u001b[0m\u001b[0;34m:\u001b[0m\u001b[0;34m\u001b[0m\u001b[0;34m\u001b[0m\u001b[0m\n\u001b[1;32m    180\u001b[0m             \u001b[0;32mif\u001b[0m \u001b[0mtype\u001b[0m\u001b[0;34m(\u001b[0m\u001b[0mpath\u001b[0m\u001b[0;34m)\u001b[0m \u001b[0;34m!=\u001b[0m \u001b[0mlist\u001b[0m\u001b[0;34m:\u001b[0m\u001b[0;34m\u001b[0m\u001b[0;34m\u001b[0m\u001b[0m\n",
            "\u001b[0;32m/anaconda/envs/azureml_py36/lib/python3.6/site-packages/py4j/java_gateway.py\u001b[0m in \u001b[0;36m__call__\u001b[0;34m(self, *args)\u001b[0m\n\u001b[1;32m   1303\u001b[0m         \u001b[0manswer\u001b[0m \u001b[0;34m=\u001b[0m \u001b[0mself\u001b[0m\u001b[0;34m.\u001b[0m\u001b[0mgateway_client\u001b[0m\u001b[0;34m.\u001b[0m\u001b[0msend_command\u001b[0m\u001b[0;34m(\u001b[0m\u001b[0mcommand\u001b[0m\u001b[0;34m)\u001b[0m\u001b[0;34m\u001b[0m\u001b[0;34m\u001b[0m\u001b[0m\n\u001b[1;32m   1304\u001b[0m         return_value = get_return_value(\n\u001b[0;32m-> 1305\u001b[0;31m             answer, self.gateway_client, self.target_id, self.name)\n\u001b[0m\u001b[1;32m   1306\u001b[0m \u001b[0;34m\u001b[0m\u001b[0m\n\u001b[1;32m   1307\u001b[0m         \u001b[0;32mfor\u001b[0m \u001b[0mtemp_arg\u001b[0m \u001b[0;32min\u001b[0m \u001b[0mtemp_args\u001b[0m\u001b[0;34m:\u001b[0m\u001b[0;34m\u001b[0m\u001b[0;34m\u001b[0m\u001b[0m\n",
            "\u001b[0;32m/anaconda/envs/azureml_py36/lib/python3.6/site-packages/pyspark/sql/utils.py\u001b[0m in \u001b[0;36mdeco\u001b[0;34m(*a, **kw)\u001b[0m\n\u001b[1;32m    129\u001b[0m     \u001b[0;32mdef\u001b[0m \u001b[0mdeco\u001b[0m\u001b[0;34m(\u001b[0m\u001b[0;34m*\u001b[0m\u001b[0ma\u001b[0m\u001b[0;34m,\u001b[0m \u001b[0;34m**\u001b[0m\u001b[0mkw\u001b[0m\u001b[0;34m)\u001b[0m\u001b[0;34m:\u001b[0m\u001b[0;34m\u001b[0m\u001b[0;34m\u001b[0m\u001b[0m\n\u001b[1;32m    130\u001b[0m         \u001b[0;32mtry\u001b[0m\u001b[0;34m:\u001b[0m\u001b[0;34m\u001b[0m\u001b[0;34m\u001b[0m\u001b[0m\n\u001b[0;32m--> 131\u001b[0;31m             \u001b[0;32mreturn\u001b[0m \u001b[0mf\u001b[0m\u001b[0;34m(\u001b[0m\u001b[0;34m*\u001b[0m\u001b[0ma\u001b[0m\u001b[0;34m,\u001b[0m \u001b[0;34m**\u001b[0m\u001b[0mkw\u001b[0m\u001b[0;34m)\u001b[0m\u001b[0;34m\u001b[0m\u001b[0;34m\u001b[0m\u001b[0m\n\u001b[0m\u001b[1;32m    132\u001b[0m         \u001b[0;32mexcept\u001b[0m \u001b[0mpy4j\u001b[0m\u001b[0;34m.\u001b[0m\u001b[0mprotocol\u001b[0m\u001b[0;34m.\u001b[0m\u001b[0mPy4JJavaError\u001b[0m \u001b[0;32mas\u001b[0m \u001b[0me\u001b[0m\u001b[0;34m:\u001b[0m\u001b[0;34m\u001b[0m\u001b[0;34m\u001b[0m\u001b[0m\n\u001b[1;32m    133\u001b[0m             \u001b[0mconverted\u001b[0m \u001b[0;34m=\u001b[0m \u001b[0mconvert_exception\u001b[0m\u001b[0;34m(\u001b[0m\u001b[0me\u001b[0m\u001b[0;34m.\u001b[0m\u001b[0mjava_exception\u001b[0m\u001b[0;34m)\u001b[0m\u001b[0;34m\u001b[0m\u001b[0;34m\u001b[0m\u001b[0m\n",
            "\u001b[0;32m/anaconda/envs/azureml_py36/lib/python3.6/site-packages/py4j/protocol.py\u001b[0m in \u001b[0;36mget_return_value\u001b[0;34m(answer, gateway_client, target_id, name)\u001b[0m\n\u001b[1;32m    326\u001b[0m                 raise Py4JJavaError(\n\u001b[1;32m    327\u001b[0m                     \u001b[0;34m\"An error occurred while calling {0}{1}{2}.\\n\"\u001b[0m\u001b[0;34m.\u001b[0m\u001b[0;34m\u001b[0m\u001b[0;34m\u001b[0m\u001b[0m\n\u001b[0;32m--> 328\u001b[0;31m                     format(target_id, \".\", name), value)\n\u001b[0m\u001b[1;32m    329\u001b[0m             \u001b[0;32melse\u001b[0m\u001b[0;34m:\u001b[0m\u001b[0;34m\u001b[0m\u001b[0;34m\u001b[0m\u001b[0m\n\u001b[1;32m    330\u001b[0m                 raise Py4JError(\n",
            "\u001b[0;31mPy4JJavaError\u001b[0m: An error occurred while calling o40.load.\n: java.lang.ClassNotFoundException: Failed to find data source: xml. Please find packages at http://spark.apache.org/third-party-projects.html\n\tat org.apache.spark.sql.execution.datasources.DataSource$.lookupDataSource(DataSource.scala:674)\n\tat org.apache.spark.sql.execution.datasources.DataSource$.lookupDataSourceV2(DataSource.scala:728)\n\tat org.apache.spark.sql.DataFrameReader.load(DataFrameReader.scala:230)\n\tat org.apache.spark.sql.DataFrameReader.load(DataFrameReader.scala:214)\n\tat sun.reflect.NativeMethodAccessorImpl.invoke0(Native Method)\n\tat sun.reflect.NativeMethodAccessorImpl.invoke(NativeMethodAccessorImpl.java:62)\n\tat sun.reflect.DelegatingMethodAccessorImpl.invoke(DelegatingMethodAccessorImpl.java:43)\n\tat java.lang.reflect.Method.invoke(Method.java:498)\n\tat py4j.reflection.MethodInvoker.invoke(MethodInvoker.java:244)\n\tat py4j.reflection.ReflectionEngine.invoke(ReflectionEngine.java:357)\n\tat py4j.Gateway.invoke(Gateway.java:282)\n\tat py4j.commands.AbstractCommand.invokeMethod(AbstractCommand.java:132)\n\tat py4j.commands.CallCommand.execute(CallCommand.java:79)\n\tat py4j.GatewayConnection.run(GatewayConnection.java:238)\n\tat java.lang.Thread.run(Thread.java:748)\nCaused by: java.lang.ClassNotFoundException: xml.DefaultSource\n\tat java.net.URLClassLoader.findClass(URLClassLoader.java:382)\n\tat java.lang.ClassLoader.loadClass(ClassLoader.java:418)\n\tat java.lang.ClassLoader.loadClass(ClassLoader.java:351)\n\tat org.apache.spark.sql.execution.datasources.DataSource$.$anonfun$lookupDataSource$5(DataSource.scala:648)\n\tat scala.util.Try$.apply(Try.scala:213)\n\tat org.apache.spark.sql.execution.datasources.DataSource$.$anonfun$lookupDataSource$4(DataSource.scala:648)\n\tat scala.util.Failure.orElse(Try.scala:224)\n\tat org.apache.spark.sql.execution.datasources.DataSource$.lookupDataSource(DataSource.scala:648)\n\t... 14 more\n"
          ]
        }
      ],
      "execution_count": 9,
      "metadata": {
        "collapsed": true,
        "jupyter": {
          "source_hidden": false,
          "outputs_hidden": false
        },
        "nteract": {
          "transient": {
            "deleting": false
          }
        }
      }
    }
  ],
  "metadata": {
    "kernelspec": {
      "name": "python3-azureml",
      "language": "python",
      "display_name": "Python 3.6 - AzureML"
    },
    "language_info": {
      "name": "python",
      "version": "3.6.9",
      "mimetype": "text/x-python",
      "codemirror_mode": {
        "name": "ipython",
        "version": 3
      },
      "pygments_lexer": "ipython3",
      "nbconvert_exporter": "python",
      "file_extension": ".py"
    },
    "kernel_info": {
      "name": "python3-azureml"
    },
    "nteract": {
      "version": "nteract-front-end@1.0.0"
    }
  },
  "nbformat": 4,
  "nbformat_minor": 2
}