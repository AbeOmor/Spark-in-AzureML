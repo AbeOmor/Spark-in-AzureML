{
  "cells": [
    {
      "cell_type": "code",
      "source": [
        "import os\r\n",
        "# load xml file into spark data frame.\r\n",
        "xml_file_path = str('../../../../../stackoverflow/posts')\r\n",
        "print('****************')\r\n",
        "print(xml_file_path)\r\n",
        "print(os.listdir(xml_file_path))"
      ],
      "outputs": [
        {
          "output_type": "stream",
          "name": "stdout",
          "text": [
            "****************\n",
            "../../../../../stackoverflow/posts\n",
            "['Posts.xml']\n"
          ]
        }
      ],
      "execution_count": 9,
      "metadata": {
        "gather": {
          "logged": 1613671948904
        }
      }
    }
  ],
  "metadata": {
    "kernelspec": {
      "name": "python3-azureml",
      "language": "python",
      "display_name": "Python 3.6 - AzureML"
    },
    "language_info": {
      "name": "python",
      "version": "3.6.9",
      "mimetype": "text/x-python",
      "codemirror_mode": {
        "name": "ipython",
        "version": 3
      },
      "pygments_lexer": "ipython3",
      "nbconvert_exporter": "python",
      "file_extension": ".py"
    },
    "kernel_info": {
      "name": "python3-azureml"
    },
    "nteract": {
      "version": "nteract-front-end@1.0.0"
    }
  },
  "nbformat": 4,
  "nbformat_minor": 2
}